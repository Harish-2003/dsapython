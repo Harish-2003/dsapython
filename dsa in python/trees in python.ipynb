{
 "cells": [
  {
   "cell_type": "markdown",
   "id": "9c2748c0",
   "metadata": {},
   "source": [
    "# important than all of them"
   ]
  },
  {
   "cell_type": "raw",
   "id": "275c100a",
   "metadata": {},
   "source": [
    "trees are of multiple types those are mentioned down below those are \n",
    "--binary tree\n",
    "--ternary tree\n",
    "--n-arr tree\n",
    "--binary search tree\n",
    "--avl trees\n",
    "--heaps\n",
    "\n",
    "binary trees are the trees which have 2 or 0 child nodes \n",
    "ternary trees are the tress which have 3 or 0 child nodes\n",
    "n-arr trees are the trees which have n child nodes\n",
    "binary search trees are the trees where all the left side elements are smaller than the parent element and the right side          elements are greater than the parent element\n",
    "avl trees are the trees where the difference between the height of left sub tree and height of right sub tree should be 1      or 0\n",
    "heaps on the other hand are of two types one is min heap and the other is max heap for max heap all the elements are less than the parent element \n",
    "min heap tells all the elements are smaller than the parent element\n",
    "- - - - - - - - - - - - - - - - - - - - - - - - - - - - - - - - - - - - - \n",
    "apart from this there are other types of other binary trees those are \n",
    "full binary tree complete tree\n",
    "in full binary tree all the parent node have 2 or 0 child nodes\n",
    "in complete binary tree all the elements are filled up in the manner from left to right they are also termed as proper         binary tree"
   ]
  },
  {
   "cell_type": "raw",
   "id": "c51a786a",
   "metadata": {},
   "source": [
    "# trees are very important \n",
    "# trees are fasted and can form hierarchy\n",
    "# while implementing trees all the elments that are on the left side are smaller than\n",
    "#~~~~~~~~~~~~~~the root/parent element and on the right side all the elemetns are greater than the root/parent elemnt\n",
    "#this is binary search tree\n"
   ]
  },
  {
   "cell_type": "raw",
   "id": "bd55d2f4",
   "metadata": {},
   "source": [
    "#trees hierarchila approach quick search and acess\n",
    "#root node the first node in the tree is called as root node that is where the tree starts\n",
    "#mostly occurs works on the concept on the pointers \n",
    "#dynamic memory location\n",
    "#child nodes\n",
    "#Branches/edges         siblings\n",
    "#leaf nodes doesnt have any child nodes\n",
    "\n",
    "--\n",
    "degree\n",
    "\n",
    "no of child nodes of the tree is degree"
   ]
  },
  {
   "cell_type": "raw",
   "id": "60a77209",
   "metadata": {},
   "source": [
    "#based upon no of children on all the nodes of the tree the type of tree is classified \n",
    "#if the number of the nodes of the parent node is less than or equal to 2 then the tree is classified as binary tree\n",
    "#if the number of the nodes of the parent node is less than or equal to 3 then the tree is clasiified as \n",
    "                            ---ternary tree and every bianary tree is a ternary tree\n",
    "#n-ary tree \n",
    " \n",
    " Branch Node   - a node that is branching \n",
    " Sub Tree      - a certain part of the tree is known as sub tree\n",
    " Ancestor      - The parent nodes we should go up not go down\n",
    " Descendents   - The nodes that are branching out the parent node all the nodes that are branching out from that node\n",
    " Path          - \n"
   ]
  },
  {
   "cell_type": "markdown",
   "id": "161f9553",
   "metadata": {},
   "source": [
    "No of edges = No of nodes -1\n",
    "Total number of leaf noddes in a binary tree= total number of nodes with 2 children +1"
   ]
  },
  {
   "cell_type": "code",
   "execution_count": null,
   "id": "05faab36",
   "metadata": {},
   "outputs": [],
   "source": [
    "Depth \n",
    "Level \n",
    "Height"
   ]
  },
  {
   "cell_type": "code",
   "execution_count": null,
   "id": "f3ae4f26",
   "metadata": {},
   "outputs": [],
   "source": [
    "depth - goes from up to down all the root nodes are from 0\n",
    "level - level of the tree start from 1 but there are cases where we can use level starts from 0 or 1\n",
    "height - same as depth"
   ]
  },
  {
   "cell_type": "markdown",
   "id": "6f1d5a8d",
   "metadata": {},
   "source": [
    "Formulaes \n",
    "----------------------------\n",
    "max number of nodes at any given level is  (for binary tree) \n",
    "\n",
    "2 power level(if level starts from 0)\n",
    "\n",
    "2 power level -1 (if level starts from 1)\n"
   ]
  },
  {
   "cell_type": "markdown",
   "id": "dc51359e",
   "metadata": {},
   "source": [
    "Maximum number of the nodes from the whole tree \n",
    "\n",
    "(2 power (l+1))-1 (if level starts from 0)\n",
    "\n",
    "(2 power (l))-1 (if level starts from 1)\n"
   ]
  },
  {
   "cell_type": "markdown",
   "id": "17aa6e6c",
   "metadata": {},
   "source": [
    "Minimum number of the nodes of the tree based upon the height\n",
    "h+1 if (height starts from 0)\n",
    "h if(height starts from 1)"
   ]
  },
  {
   "cell_type": "markdown",
   "id": "de9d89a7",
   "metadata": {},
   "source": [
    "--binary tree with n nodes and minimum possible height of the tree is \n",
    "\n",
    "log(n+1)-1   (if h starts from 0)  ceil value\n",
    "\n",
    "log(n+1)     (if h starts from 1)"
   ]
  },
  {
   "cell_type": "markdown",
   "id": "84fd053d",
   "metadata": {},
   "source": [
    "Types of trees\n",
    "--\n",
    "Binary trees\n",
    "---\n",
    "full binary tree    - a binary tree is said to full if all nodes either have 0 or 2 children\n",
    "                   \n",
    "                   -with n leaves it contain 2n-1 nodes \n",
    "\n",
    "complete (left to right)     - a binary tree is said to complete if all the level are complete filed while filling them from left to right \n",
    "\n",
    "perfect binary tree  - a binary tree is said to be perfect if it has 2 child nodes and all the leaf nodes are at the same level for all the nodes the degree should  be 0 or 2\n",
    "\n",
    "                         - it is full complete binary tree\n",
    "balanced binary tree -\n",
    "\n",
    "          (not so important)"
   ]
  },
  {
   "cell_type": "code",
   "execution_count": null,
   "id": "f414dceb",
   "metadata": {},
   "outputs": [],
   "source": []
  }
 ],
 "metadata": {
  "kernelspec": {
   "display_name": "Python 3 (ipykernel)",
   "language": "python",
   "name": "python3"
  },
  "language_info": {
   "codemirror_mode": {
    "name": "ipython",
    "version": 3
   },
   "file_extension": ".py",
   "mimetype": "text/x-python",
   "name": "python",
   "nbconvert_exporter": "python",
   "pygments_lexer": "ipython3",
   "version": "3.9.13"
  }
 },
 "nbformat": 4,
 "nbformat_minor": 5
}
