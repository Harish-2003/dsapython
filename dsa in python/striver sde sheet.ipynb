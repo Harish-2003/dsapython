{
 "cells": [
  {
   "cell_type": "code",
   "execution_count": null,
   "id": "e1d0901c",
   "metadata": {},
   "outputs": [],
   "source": [
    "#set matrixes to zeroes \n",
    "class Solution:\n",
    "    def setZeroes(self, matrix: List[List[int]]) -> None:\n",
    "        \"\"\"\n",
    "        Do not return anything, modify matrix in-place instead.\n",
    "        \"\"\"\n",
    "        row=[]\n",
    "        col=[]\n",
    "        for i in range(len(matrix)):\n",
    "            for j in range(len(matrix[i])):\n",
    "                if(matrix[i][j]==0):\n",
    "                    row.append(i)\n",
    "                    col.append(j)\n",
    "        #for every element in alpha the even number is rows and the odd number is columns\n",
    "        for i in range(len(matrix)):\n",
    "            for j in range(len(matrix[i])):\n",
    "                if i in row or j in col:\n",
    "                    matrix[i][j]=0"
   ]
  },
  {
   "cell_type": "code",
   "execution_count": 15,
   "id": "700d9734",
   "metadata": {
    "scrolled": true
   },
   "outputs": [
    {
     "name": "stdout",
     "output_type": "stream",
     "text": [
      "6\n",
      "[2]\n",
      "[2, 3]\n",
      "[2, 3]\n"
     ]
    },
    {
     "ename": "IndexError",
     "evalue": "list index out of range",
     "output_type": "error",
     "traceback": [
      "\u001b[1;31m---------------------------------------------------------------------------\u001b[0m",
      "\u001b[1;31mIndexError\u001b[0m                                Traceback (most recent call last)",
      "\u001b[1;32m~\\AppData\\Local\\Temp\\ipykernel_13196\\2084812090.py\u001b[0m in \u001b[0;36m<module>\u001b[1;34m\u001b[0m\n\u001b[0;32m      9\u001b[0m     \u001b[1;32melse\u001b[0m\u001b[1;33m:\u001b[0m\u001b[1;33m\u001b[0m\u001b[1;33m\u001b[0m\u001b[0m\n\u001b[0;32m     10\u001b[0m         \u001b[0mprint\u001b[0m\u001b[1;33m(\u001b[0m\u001b[0malpha\u001b[0m\u001b[1;33m)\u001b[0m\u001b[1;33m\u001b[0m\u001b[1;33m\u001b[0m\u001b[0m\n\u001b[1;32m---> 11\u001b[1;33m         \u001b[0malpha\u001b[0m\u001b[1;33m.\u001b[0m\u001b[0mappend\u001b[0m\u001b[1;33m(\u001b[0m\u001b[0malpha\u001b[0m\u001b[1;33m[\u001b[0m\u001b[0mi\u001b[0m\u001b[1;33m-\u001b[0m\u001b[1;36m1\u001b[0m\u001b[1;33m]\u001b[0m\u001b[1;33m+\u001b[0m\u001b[0malpha\u001b[0m\u001b[1;33m[\u001b[0m\u001b[0mi\u001b[0m\u001b[1;33m-\u001b[0m\u001b[1;36m2\u001b[0m\u001b[1;33m]\u001b[0m\u001b[1;33m)\u001b[0m\u001b[1;33m\u001b[0m\u001b[1;33m\u001b[0m\u001b[0m\n\u001b[0m\u001b[0;32m     12\u001b[0m \u001b[0mprint\u001b[0m\u001b[1;33m(\u001b[0m\u001b[0malpha\u001b[0m\u001b[1;33m)\u001b[0m\u001b[1;33m\u001b[0m\u001b[1;33m\u001b[0m\u001b[0m\n",
      "\u001b[1;31mIndexError\u001b[0m: list index out of range"
     ]
    }
   ],
   "source": [
    "#pascal triangle\n",
    "#according to my imagination we goona try to build first half and then later the second half\n",
    "n=int(input())\n",
    "alpha=[]\n",
    "for i in range(1,n+1):\n",
    "    if(i<3):\n",
    "        alpha.append(i+1)\n",
    "        print(alpha)\n",
    "    else:\n",
    "        print(alpha)\n",
    "        alpha.append(alpha[i-1]+alpha[i-2])\n",
    "print(alpha)"
   ]
  },
  {
   "cell_type": "code",
   "execution_count": 26,
   "id": "9d978a3d",
   "metadata": {},
   "outputs": [
    {
     "name": "stdout",
     "output_type": "stream",
     "text": [
      "5\n",
      "1 4 8 10 10 8 "
     ]
    }
   ],
   "source": [
    "#pascal triangle in pascal triangle you can able to find a pattern among the elements \n",
    "\"\"\"\n",
    "   1\n",
    "   1 1\n",
    "   1 2 1\n",
    "   1 3 3 1\n",
    "   1 4 -6 4 1    5 th row 3 th column\n",
    "   1 5 10 10 5 1\n",
    "\"\"\"\n",
    "#to find the element at nth position you need to do the formula n C r formula which is r-1 C c-1 where r is row number and c is column number\n",
    "def ncr(n,r):\n",
    "    res=1\n",
    "    #formula for ncr is n!/(n-r)!*r!\n",
    "    for i in range(0,r):       #4*3//1*2\n",
    "        res*=n-i\n",
    "        res=res//(i+1)\n",
    "    print(res,end=\" \")\n",
    "#ncr(4,2)\n",
    "#the above for single element \n",
    "#for all the elments in the rows\n",
    "\"\"\"for i in range(1,6):\n",
    "    ncr(5,i-1)\n",
    "    # this is again more time complexity the interviewer asks to optimimze it in better way \n",
    "#to find the nth row in pascal triangle\"\"\"\n",
    "n=int(input())\n",
    "res=1\n",
    "print(res,end=\" \")\n",
    "for i in range(1,n+1):\n",
    "    res=res*(n-1)\n",
    "    res=res//i\n",
    "    print(res,end=\" \")"
   ]
  },
  {
   "cell_type": "code",
   "execution_count": 12,
   "id": "e709e731",
   "metadata": {},
   "outputs": [
    {
     "name": "stdout",
     "output_type": "stream",
     "text": [
      "2 1 3\n",
      "[2, 3, 1]\n"
     ]
    }
   ],
   "source": [
    "#to find the next permutation of the given set of numbers\n",
    "# next permutation refers to the arrangment of the numbers in all possible ways \n",
    "#to generate all the permutations of the given array you can use recurssion just like next subintervals\n",
    "#we are now writing the optimal solution to find the next permutation of the given array\n",
    "k=list(map(int,input().split(\" \")))\n",
    "ind=-1\n",
    "def reverse(k,start,end):\n",
    "    z=[]\n",
    "    for i in range(start+1):\n",
    "        z.append(k[i])\n",
    "    for j in range(end-1,start,-1):\n",
    "        z.append(k[j])\n",
    "    return z\n",
    "for i in range(len(k)-2,-1,-1): #len(k)-2 is the last indexx where we can have a dip\n",
    "    if(k[i]<k[i+1]):\n",
    "        ind=i\n",
    "        break\n",
    "if(ind==-1):\n",
    "    print(k[::-1])\n",
    "else:\n",
    "    for i in range(len(k)-1,ind,-1):\n",
    "        if(k[ind]<k[i]):\n",
    "            k[ind],k[i]=(k[i],k[ind])\n",
    "    print(reverse(k,ind,len(k)))"
   ]
  },
  {
   "cell_type": "code",
   "execution_count": 26,
   "id": "fe070df4",
   "metadata": {},
   "outputs": [
    {
     "name": "stdout",
     "output_type": "stream",
     "text": [
      "[[1, 6], [8, 10], [15, 18]]\n"
     ]
    }
   ],
   "source": [
    "#given some sub intervals we need to merge them accordingly\n",
    "#firstly let's assume two arrays and merge them according if they are within the range or else don't merge them \n",
    "n1=[[1,3],[2,6],[8,10],[15,18]]\n",
    "newarray=[]\n",
    "gama=[]\n",
    "for i in range(len(n1)-1):\n",
    "    if(n1[i][1]>=n1[i+1][0]):\n",
    "        newarray.append([n1[i][0],n1[i+1][1]])\n",
    "        gama.append(n1[i])\n",
    "        gama.append(n1[i+1])\n",
    "for i in n1:\n",
    "    if i not in gama:\n",
    "        newarray.append(i)\n",
    "print(newarray)"
   ]
  },
  {
   "cell_type": "code",
   "execution_count": null,
   "id": "3b761bed",
   "metadata": {},
   "outputs": [],
   "source": [
    "#merging two sorted arrays withouout extra space\n",
    "n=list(map(int,input().split(\" \")))\n",
    "n2=list(map(int,input().split(\" \")))\n",
    "#finding the least size of the array\n",
    "if(len(n)<len(n2)):\n",
    "    minsize=len(n)\n",
    "else:\n",
    "    minsize=len(n2)\n",
    "while(i<count and j<count):\n",
    "    if()\n",
    "        "
   ]
  },
  {
   "cell_type": "code",
   "execution_count": 2,
   "id": "c0c2c069",
   "metadata": {},
   "outputs": [
    {
     "name": "stdout",
     "output_type": "stream",
     "text": [
      "3,2,1,4\n",
      "1\n"
     ]
    }
   ],
   "source": [
    "#Reverse paires\n",
    "n=list(map(int,input().split(\",\")))\n",
    "count=0\n",
    "for i in range(len(n)):\n",
    "    for j in range(i+1,len(n)):\n",
    "        if(n[i]>n[j]*2):\n",
    "            count+=1\n",
    "print(count)\n",
    "#the above solution is brute force apporocah we need to find the optimal solution \n",
    "#optimal approach\n",
    "n2=[i*2 for i in n]\n",
    "res=0\n",
    "while(res<len(n1)):\n",
    "    \n",
    "    res+=1"
   ]
  }
 ],
 "metadata": {
  "kernelspec": {
   "display_name": "Python 3 (ipykernel)",
   "language": "python",
   "name": "python3"
  },
  "language_info": {
   "codemirror_mode": {
    "name": "ipython",
    "version": 3
   },
   "file_extension": ".py",
   "mimetype": "text/x-python",
   "name": "python",
   "nbconvert_exporter": "python",
   "pygments_lexer": "ipython3",
   "version": "3.9.13"
  }
 },
 "nbformat": 4,
 "nbformat_minor": 5
}
