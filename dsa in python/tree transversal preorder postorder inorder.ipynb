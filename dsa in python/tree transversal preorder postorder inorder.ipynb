{
 "cells": [
  {
   "cell_type": "code",
   "execution_count": 6,
   "id": "2f043978",
   "metadata": {},
   "outputs": [
    {
     "name": "stdout",
     "output_type": "stream",
     "text": [
      "Preorder: \n",
      "1 2 4 5 3 6 \n",
      "Inorder: \n",
      "4 2 5 1 6 3 \n",
      "Postorder: \n",
      "4 5 2 6 3 1 "
     ]
    }
   ],
   "source": [
    "class Node:\n",
    "    def __init__(self, key):\n",
    "        self.left = None\n",
    "        self.right = None\n",
    "        self.val = key\n",
    " \n",
    " \n",
    "# A function to do inorder tree traversal\n",
    "def calcInorder(root):\n",
    " \n",
    "    if root:\n",
    " \n",
    "        # Recurring on left child\n",
    "        calcInorder(root.left)\n",
    " \n",
    "        # Printing data of node\n",
    "        print(root.val, end=\" \"),\n",
    " \n",
    "        # Recurring on right child\n",
    "        calcInorder(root.right)\n",
    " \n",
    " \n",
    "# A function to do postorder tree traversal\n",
    "def calcPostorder(root):\n",
    " \n",
    "    if root:\n",
    " \n",
    "        # Recurring on left child\n",
    "        calcPostorder(root.left)\n",
    " \n",
    "        # Recurring on right child\n",
    "        calcPostorder(root.right)\n",
    " \n",
    "        # Printing data of node\n",
    "        print(root.val, end=\" \"),\n",
    " \n",
    " \n",
    "# A function to do preorder tree traversal\n",
    "def calcPreorder(root):\n",
    " \n",
    "    if root:\n",
    " \n",
    "        # Printing data of node\n",
    "        print(root.val, end=\" \"),\n",
    " \n",
    "        # Recurring on left child\n",
    "        calcPreorder(root.left)\n",
    " \n",
    "        # Recurring on right child\n",
    "        calcPreorder(root.right)\n",
    " \n",
    " \n",
    "# Driver code\n",
    "root = Node(1)\n",
    "root.left = Node(2)\n",
    "root.right = Node(3)\n",
    "root.left.left = Node(4)\n",
    "root.left.right = Node(5)\n",
    "root.right.left=Node(6)\n",
    "  \n",
    "\n",
    "print (\"Preorder: \")\n",
    "calcPreorder(root)\n",
    " \n",
    "print (\"\\nInorder: \")\n",
    "calcInorder(root)\n",
    " \n",
    "print (\"\\nPostorder: \")\n",
    "calcPostorder(root)"
   ]
  }
 ],
 "metadata": {
  "kernelspec": {
   "display_name": "Python 3 (ipykernel)",
   "language": "python",
   "name": "python3"
  },
  "language_info": {
   "codemirror_mode": {
    "name": "ipython",
    "version": 3
   },
   "file_extension": ".py",
   "mimetype": "text/x-python",
   "name": "python",
   "nbconvert_exporter": "python",
   "pygments_lexer": "ipython3",
   "version": "3.9.13"
  }
 },
 "nbformat": 4,
 "nbformat_minor": 5
}
