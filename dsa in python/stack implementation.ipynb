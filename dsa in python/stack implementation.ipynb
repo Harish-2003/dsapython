{
 "cells": [
  {
   "cell_type": "code",
   "execution_count": 3,
   "id": "b0ca51e7",
   "metadata": {},
   "outputs": [
    {
     "name": "stdout",
     "output_type": "stream",
     "text": [
      "element is pushed into the stack\n",
      "element is pushed into the stack\n",
      "78\n",
      "5\n",
      "-9223372036854775807\n"
     ]
    }
   ],
   "source": [
    "from sys import maxsize\n",
    "def createstack():\n",
    "    stack=[]\n",
    "    return stack\n",
    "def isempty(stack):\n",
    "    if(len(stack)==0):\n",
    "        return True\n",
    "    return False\n",
    "def push(stack,element):\n",
    "    stack.append(element)\n",
    "    print(\"element is pushed into the stack\")\n",
    "def pop(stack):\n",
    "    if(isempty(stack)):\n",
    "        return str(-maxsize)\n",
    "    return stack.pop()\n",
    "l=createstack()\n",
    "push(l,5)\n",
    "push(l,78)\n",
    "print(pop(l))\n",
    "print(pop(l))\n",
    "print(pop(l))"
   ]
  },
  {
   "cell_type": "code",
   "execution_count": 1,
   "id": "6b6acf9e",
   "metadata": {},
   "outputs": [
    {
     "name": "stdout",
     "output_type": "stream",
     "text": [
      "5 pushed to stack \n",
      "10 pushed to stack \n",
      "15 pushed to stack \n",
      "20 pushed to stack \n",
      "20 popped from stack\n"
     ]
    }
   ],
   "source": [
    "# This is used to return -infinite whenever our stack is empty\n",
    "from sys import maxsize\n",
    "\n",
    "\n",
    "# Creation of stack happens here\n",
    "def createStack():\n",
    "    stack = []\n",
    "    return stack\n",
    "\n",
    "\n",
    "# If your length of stack is 0 then stack is empty\n",
    "def isEmpty(stack):\n",
    "    return len(stack) == 0\n",
    "\n",
    "\n",
    "# Just use append to add item\n",
    "def push(stack, item):\n",
    "    stack.append(item)\n",
    "    print(item + \" pushed to stack \")\n",
    "\n",
    "\n",
    "# Pop removes the top most / last element in stack/list\n",
    "def pop(stack):\n",
    "    if (isEmpty(stack)):\n",
    "        return str(-maxsize - 1)  # return minus infinite\n",
    "\n",
    "    return stack.pop()\n",
    "\n",
    "\n",
    "# Get the topmost element in the stack\n",
    "def peek(stack):\n",
    "    if (isEmpty(stack)):\n",
    "        return str(-maxsize - 1)  # return minus infinite\n",
    "    return stack[len(stack) - 1]\n",
    "\n",
    "\n",
    "# Driver program\n",
    "stack = createStack()\n",
    "push(stack, str(5))\n",
    "push(stack, str(10))\n",
    "push(stack, str(15))\n",
    "push(stack, str(20))\n",
    "print(pop(stack) + \" popped from stack\")"
   ]
  },
  {
   "cell_type": "code",
   "execution_count": 3,
   "id": "afef5965",
   "metadata": {},
   "outputs": [
    {
     "name": "stdout",
     "output_type": "stream",
     "text": [
      "5\n"
     ]
    },
    {
     "data": {
      "text/plain": [
       "'underflow'"
      ]
     },
     "execution_count": 3,
     "metadata": {},
     "output_type": "execute_result"
    }
   ],
   "source": [
    "class stack:\n",
    "    def __init__(self):\n",
    "        self.stack=[]\n",
    "    def isempty(self):\n",
    "        if(len(self.stack)==0):\n",
    "            return True\n",
    "        return False\n",
    "    def push(self,element):\n",
    "        self.stack.append(element)\n",
    "        print(element)\n",
    "    def pop(self):\n",
    "        if(self.isempty()):\n",
    "            return \"underflow\"\n",
    "        else:\n",
    "            return self.stack.pop()\n",
    "k=stack()\n",
    "k.push(5)\n",
    "k.pop()\n",
    "k.pop()"
   ]
  },
  {
   "cell_type": "code",
   "execution_count": null,
   "id": "1856bb25",
   "metadata": {},
   "outputs": [],
   "source": [
    "# This is used to return -infinite whenever our stack is empty\n",
    "from sys import maxsize\n",
    "\n",
    "\n",
    "class Stack:\n",
    "    def __init__(self):\n",
    "        self.stack = []\n",
    "\n",
    "    # If your length of stack is 0 then stack is empty\n",
    "    def isEmpty(self):\n",
    "        return len(self.stack) == 0\n",
    "\n",
    "    # Just use append to add item\n",
    "    def push(self, item):\n",
    "        self.stack.append(item)\n",
    "        print(item + \" pushed to stack \")\n",
    "\n",
    "    # Pop removes the top most / last element in stack/list\n",
    "    def pop(self):\n",
    "        if self.isEmpty():\n",
    "            return str(-maxsize - 1)  # return minus infinite\n",
    "\n",
    "        return self.stack.pop()\n",
    "\n",
    "    # Get the topmost element in the stack\n",
    "    def peek(self):\n",
    "        if self.isEmpty():\n",
    "            return str(-maxsize - 1)  # return minus infinite\n",
    "        return self.stack[len(self.stack) - 1]\n",
    "\n",
    "    def size(self):\n",
    "        return len(self.stack)\n",
    "\n",
    "    def display(self):\n",
    "        # writing extra ways to practise ways of writing the same in python\n",
    "        print(\" \".join(x for x in self.stack))  # will not print in top to bottom format\n",
    "        print(\" \".join(self.stack[i] for i in range(len(self.stack))))  # will not print in top to bottom format\n",
    "        print(\" \".join(self.stack[i] for i in range(len(self.stack)-1, -1, -1)))  # Will print in top to bottom format (Correct)\n",
    "        print(\" \".join(item for item in self.stack[::-1]))  # will print in top to bottom format (Correct)\n",
    "        print(\", \".join(item for item in self.stack[::-1]))  # will print in top to bottom format (Correct)\n",
    "\n",
    "\n",
    "# Driver program\n",
    "s = Stack()\n",
    "s.push(str(5))\n",
    "s.push(str(10))\n",
    "s.push(str(15))\n",
    "s.push(str(20))\n",
    "print(s.pop() + \" popped from stack\")\n",
    "print(s.peek() + \" is top of the stack\")\n",
    "print(str(s.size()) + \"is size of stack\")\n",
    "s.display()"
   ]
  },
  {
   "cell_type": "code",
   "execution_count": 3,
   "id": "62fed5d0",
   "metadata": {},
   "outputs": [
    {
     "name": "stdout",
     "output_type": "stream",
     "text": [
      "element is pushed into the stack\n"
     ]
    },
    {
     "data": {
      "text/plain": [
       "False"
      ]
     },
     "execution_count": 3,
     "metadata": {},
     "output_type": "execute_result"
    }
   ],
   "source": [
    "class stack:\n",
    "    def __init__(self):\n",
    "        self.list=[]\n",
    "    def push(self,element):\n",
    "        self.list.append(element)\n",
    "        print(\"element is pushed into the stack\")\n",
    "    def pop(self):\n",
    "        self.list.pop()\n",
    "        print(\"Element is poped from the stack\")\n",
    "    def isempty(self):\n",
    "        if(len(self.list)==0):\n",
    "            return True\n",
    "        return False\n",
    "    #def isfull(self): there is no isfull statement in the implemention on stack elements\n",
    "#good to go with stack implemention in python\n",
    "stack1=stack()\n",
    "stack1.push(5)\n",
    "stack1.isempty()\n",
    "\n",
    "        "
   ]
  },
  {
   "cell_type": "code",
   "execution_count": 10,
   "id": "8ef7a59a",
   "metadata": {},
   "outputs": [
    {
     "name": "stdout",
     "output_type": "stream",
     "text": [
      "[](({}))\n",
      "False\n"
     ]
    }
   ],
   "source": [
    "#now we need to go for balanced paranthesis problem \n",
    "#we need to print false if there are unbalanced paranthesis in the given string\n",
    "#{[]} prints true ;  {{}}} prints false   ;   ((})) prints false\n",
    "#so first create a dictionary for every pair that is present\n",
    "di={'{':'}','[':']','(':')'}\n",
    "stack=[]\n",
    "n=input()\n",
    "def isempty(stack):\n",
    "    if(len(stack)==0):\n",
    "        return True\n",
    "    return False\n",
    "def check(n):\n",
    "    for i in n:\n",
    "        if(i in ['{','(','[']):\n",
    "            stack.append(i)\n",
    "        elif(i in ['}',')',']']):\n",
    "            if(len(stack)>0):\n",
    "                k=stack.pop()\n",
    "                if(di[k]!=i):\n",
    "                    return False\n",
    "            return False\n",
    "    if(isempty(stack)):\n",
    "        return True\n",
    "    return False\n",
    "print(check(n))\n",
    "#we also need to check isempty function\n",
    "# i hope the working solution of this problem is true \n"
   ]
  },
  {
   "cell_type": "code",
   "execution_count": 18,
   "id": "3746a1ce",
   "metadata": {
    "scrolled": false
   },
   "outputs": [
    {
     "name": "stdout",
     "output_type": "stream",
     "text": [
      "12 14 15 7 15 7 15 17 5 12 10 13 20\n",
      "10 20 30 40 50\n",
      "1\n",
      "1\n",
      "1\n",
      "2\n",
      "1\n",
      "4\n",
      "[1, 2, 3, 1, 5, 1, 7, 8, 1, 2, 1, 4, 13]\n",
      "[1, 2, 3, 4, 5]\n"
     ]
    }
   ],
   "source": [
    "#problem 2 on stacks\n",
    "#span of a stock\n",
    "#from the right side go towards the left side of the array and find the larger element than you and we\n",
    "#need to find the no of elemnts in between and we need to print the resultant array in navie way\n",
    "n=list(map(int,input().split(\" \")))\n",
    "n2=list(map(int,input().split(\" \")))\n",
    "def lowside(arr,j):\n",
    "    count=0\n",
    "    for i in range(j,-1,-1):\n",
    "        if(arr[j]>=arr[i]):\n",
    "            count+=1\n",
    "        else:\n",
    "            print(count)\n",
    "            break\n",
    "    return count\n",
    "def checking(n):\n",
    "    lis=[]\n",
    "    for i in range(len(n)):\n",
    "        lis.append(lowside(n,i))\n",
    "    return lis\n",
    "print(checking(n))\n",
    "print(checking(n2))\n",
    "#12 14 15 7 15 7 15 17 5 12 10 13 20\n",
    "#10 20 30 40 50"
   ]
  },
  {
   "cell_type": "code",
   "execution_count": 32,
   "id": "808a11ee",
   "metadata": {},
   "outputs": [
    {
     "name": "stdout",
     "output_type": "stream",
     "text": [
      "12 10 20 22 15 14 18 32 20 22 19\n",
      "['-', 12, '-', '-', 22, 15, 22, '-', 32, 32, 22]\n"
     ]
    }
   ],
   "source": [
    "#previous greater element in the array if there are none then print - value \n",
    "n=list(map(int,input().split(\" \")))\n",
    "def check(arr,j):\n",
    "    for k in range(j,-1,-1):\n",
    "        if(arr[j]<arr[k]):\n",
    "            return arr[k]\n",
    "    return '-'\n",
    "def listelement(arr):\n",
    "    ha=[]\n",
    "    for l in range(len(arr)):\n",
    "        ha.append(check(arr,l))\n",
    "    return ha\n",
    "print(listelement(n))\n",
    "#12 10 20 22 15 14 18 32 20 22 19   #naive way need to know optimized way which reduces time complexity"
   ]
  },
  {
   "cell_type": "code",
   "execution_count": 37,
   "id": "d59dc170",
   "metadata": {},
   "outputs": [
    {
     "name": "stdout",
     "output_type": "stream",
     "text": [
      "12 2 5 4 1 7 8\n",
      "14\n"
     ]
    }
   ],
   "source": [
    "#largest rectangular area under a histogram\n",
    "n=list(map(int,input().split(\" \")))\n",
    "#need to check the greatetst element on the left and right side of the array and we need to max element among the list\n",
    "def checkleft(arr,left):\n",
    "    count=0\n",
    "    for j in range(left-1,-1,-1):\n",
    "        if(arr[left]<arr[j]):\n",
    "            count+=1\n",
    "        else:\n",
    "            break\n",
    "    return count\n",
    "def checkright(arr,right):\n",
    "    count=0\n",
    "    for j in range(right+1,len(arr)):\n",
    "        if(arr[right]<arr[j]):\n",
    "            count+=1\n",
    "        else:\n",
    "            break\n",
    "    return count\n",
    "def real(arr):\n",
    "    za=[]\n",
    "    for j in range(len(arr)):\n",
    "        za.append((checkright(arr,j)+1+checkleft(arr,j))*arr[j])\n",
    "    return za\n",
    "print(max(real(n)))\n",
    "#12 2 5 4 1 7 8"
   ]
  },
  {
   "cell_type": "code",
   "execution_count": null,
   "id": "7e15976e",
   "metadata": {},
   "outputs": [],
   "source": [
    "#try to implement stack usiing linked list in python\n"
   ]
  }
 ],
 "metadata": {
  "kernelspec": {
   "display_name": "Python 3 (ipykernel)",
   "language": "python",
   "name": "python3"
  },
  "language_info": {
   "codemirror_mode": {
    "name": "ipython",
    "version": 3
   },
   "file_extension": ".py",
   "mimetype": "text/x-python",
   "name": "python",
   "nbconvert_exporter": "python",
   "pygments_lexer": "ipython3",
   "version": "3.9.13"
  }
 },
 "nbformat": 4,
 "nbformat_minor": 5
}
