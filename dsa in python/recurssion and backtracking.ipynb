{
 "cells": [
  {
   "cell_type": "code",
   "execution_count": 7,
   "id": "542ca58e",
   "metadata": {},
   "outputs": [
    {
     "name": "stdout",
     "output_type": "stream",
     "text": [
      "1\n",
      "2\n",
      "3\n"
     ]
    }
   ],
   "source": [
    "#print 1 to n numbers using recurssion using global variable and withoutusing it and with backtracking\n",
    "count=0\n",
    "def printk(count):\n",
    "    if(count==3):\n",
    "        return\n",
    "    count+=1\n",
    "    print(count)\n",
    "    printk(count)\n",
    "printk(0)"
   ]
  },
  {
   "cell_type": "code",
   "execution_count": 10,
   "id": "5d03ecb7",
   "metadata": {},
   "outputs": [
    {
     "name": "stdout",
     "output_type": "stream",
     "text": [
      "1\n",
      "2\n",
      "3\n"
     ]
    }
   ],
   "source": [
    "#print 1 to n numbers without using + symbol \n",
    "def fun(i,n):\n",
    "    if(i<1):\n",
    "        return\n",
    "    #print(i)\n",
    "    fun(i-1,n)\n",
    "    print(i)\n",
    "fun(3,3)\n",
    "#backtracking"
   ]
  },
  {
   "cell_type": "code",
   "execution_count": 16,
   "id": "73bd6427",
   "metadata": {},
   "outputs": [
    {
     "name": "stdout",
     "output_type": "stream",
     "text": [
      "10\n",
      "10\n"
     ]
    }
   ],
   "source": [
    "#sum of first n natural numbers using parameters and functional programming\n",
    "#funcional programming\n",
    "def func(k):\n",
    "    if(k<1):\n",
    "        return 0\n",
    "    return k+func(k-1)\n",
    "print(func(4))\n",
    "# a small things makes big differences if we type return none then code shows the error\n",
    "#parameters recurssion programming\n",
    "def recur(k,res):\n",
    "    if(k<1):\n",
    "        return res\n",
    "    return recur(k-1,res+k)\n",
    "print(recur(4,0))"
   ]
  },
  {
   "cell_type": "code",
   "execution_count": 19,
   "id": "ab9dcc37",
   "metadata": {},
   "outputs": [
    {
     "name": "stdout",
     "output_type": "stream",
     "text": [
      "120\n",
      "None\n"
     ]
    }
   ],
   "source": [
    "#factorial of n\n",
    "def fact(n):\n",
    "    if(n<=1):\n",
    "        return 1\n",
    "    else:\n",
    "        return n*fact(n-1)\n",
    "print(fact(5))\n",
    "def parameter(n,res):\n",
    "    if(n<=1):\n",
    "        return res\n",
    "    else:\n",
    "        return parameter(n-1,res*n)\n",
    "print(parameter(5,1))"
   ]
  },
  {
   "cell_type": "code",
   "execution_count": 6,
   "id": "56af4874",
   "metadata": {},
   "outputs": [
    {
     "name": "stdout",
     "output_type": "stream",
     "text": [
      "[5, 4, 3, 2, 1]\n"
     ]
    }
   ],
   "source": [
    "#reversing an array using recurssion\n",
    "a=[1,2,3,4,5]\n",
    "def reverse(a,start,end):\n",
    "    if(start>=end):\n",
    "        return\n",
    "    else:\n",
    "        k=a[start]\n",
    "        a[start]=a[end]\n",
    "        a[end]=k\n",
    "        reverse(a,start+1,end-1)\n",
    "reverse(a,0,len(a)-1)\n",
    "print(a)\n",
    "        "
   ]
  },
  {
   "cell_type": "code",
   "execution_count": 17,
   "id": "a3e9176d",
   "metadata": {},
   "outputs": [
    {
     "name": "stdout",
     "output_type": "stream",
     "text": [
      "False\n"
     ]
    }
   ],
   "source": [
    "#checking weather the given string is palidrome or not\n",
    "n=\"harish\"\n",
    "def palindrome(n,s,e):\n",
    "    if(s>=e):\n",
    "        return True\n",
    "    else:\n",
    "        if(n[s]!=n[e]):\n",
    "            return False\n",
    "        else:\n",
    "            return palindrome(n,s+1,e-1)\n",
    "print(palindrome(n,0,len(n)-1))\n"
   ]
  },
  {
   "cell_type": "code",
   "execution_count": 22,
   "id": "813e1565",
   "metadata": {},
   "outputs": [
    {
     "data": {
      "text/plain": [
       "8"
      ]
     },
     "execution_count": 22,
     "metadata": {},
     "output_type": "execute_result"
    }
   ],
   "source": [
    "#fibonaci series\n",
    "def findfib(i):\n",
    "    if(i<=1):\n",
    "        return 1\n",
    "    else:\n",
    "        return findfib(i-1)+findfib(i-2)\n",
    "findfib(5)#0 1 1 2 3 5 8"
   ]
  },
  {
   "cell_type": "code",
   "execution_count": 9,
   "id": "303cb7d1",
   "metadata": {},
   "outputs": [
    {
     "name": "stdout",
     "output_type": "stream",
     "text": [
      "[1, 2]\n",
      "[3]\n"
     ]
    }
   ],
   "source": [
    "#print all subsequences using recurssion\n",
    "#defination of subsequence is a sequence that is contigious or non contigious (similar to sub array) that follows the order\n",
    "#[3,1,2] the subsequence of this array is [3],[2],[1,2,3],[3,2](non contigious)[3,2,1] is not subsequence as it doesn't follwos the order\n",
    "arr=[1,2,3]\n",
    "alpha=[]\n",
    "empty=[]\n",
    "def printalsequences(arr,index,empty,alpha,res):\n",
    "    if(index==len(arr)):\n",
    "        if(sum(empty)==res):\n",
    "            print(empty)\n",
    "    else:\n",
    "        empty.append(arr[index])\n",
    "        printalsequences(arr,index+1,empty,alpha,res)\n",
    "        empty.pop()\n",
    "        printalsequences(arr,index+1,empty,alpha,res)\n",
    "    return\n",
    "printalsequences(arr,0,empty,alpha,3)\n",
    "#printing the subsequence of an array whose sum is 6 or something\n"
   ]
  },
  {
   "cell_type": "code",
   "execution_count": 34,
   "id": "43ed9010",
   "metadata": {},
   "outputs": [],
   "source": [
    "#printing subsequenes of an array whose sum is k\n",
    "alpha=[]\n",
    "def subsequence(arr,index,empty,alpha,k):\n",
    "    if(index==len(arr)):\n",
    "        /#print(sum(empty))\n",
    "        if(sum(empty)==k):\n",
    "            print(empty)\n",
    "        #print(sum(empty))\n",
    "        #print(empty)\n",
    "    else:\n",
    "        empty.append(arr[index])\n",
    "        subsequence(arr,index+1,empty,alpha,k)\n",
    "        z=empty.pop()\n",
    "        k-=z\n",
    "        subsequence(arr,index+1,empty,alpha,k)\n",
    "subsequence(arr,0,[],alpha,3)\n",
    "arr=[1,2,3]"
   ]
  },
  {
   "cell_type": "code",
   "execution_count": null,
   "id": "387fa833",
   "metadata": {},
   "outputs": [],
   "source": [
    "#merge sort is divide and merge "
   ]
  }
 ],
 "metadata": {
  "kernelspec": {
   "display_name": "Python 3 (ipykernel)",
   "language": "python",
   "name": "python3"
  },
  "language_info": {
   "codemirror_mode": {
    "name": "ipython",
    "version": 3
   },
   "file_extension": ".py",
   "mimetype": "text/x-python",
   "name": "python",
   "nbconvert_exporter": "python",
   "pygments_lexer": "ipython3",
   "version": "3.9.13"
  }
 },
 "nbformat": 4,
 "nbformat_minor": 5
}
