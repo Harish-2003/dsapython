{
 "cells": [
  {
   "cell_type": "code",
   "execution_count": 4,
   "id": "a877f04d",
   "metadata": {},
   "outputs": [
    {
     "ename": "SyntaxError",
     "evalue": "invalid syntax (1777719846.py, line 6)",
     "output_type": "error",
     "traceback": [
      "\u001b[1;36m  File \u001b[1;32m\"C:\\Users\\haris\\AppData\\Local\\Temp\\ipykernel_9860\\1777719846.py\"\u001b[1;36m, line \u001b[1;32m6\u001b[0m\n\u001b[1;33m    def check_balanced(expr):\u001b[0m\n\u001b[1;37m    ^\u001b[0m\n\u001b[1;31mSyntaxError\u001b[0m\u001b[1;31m:\u001b[0m invalid syntax\n"
     ]
    }
   ],
   "source": [
    "from collections import deque\n",
    "\n",
    "def checkpair(val1,val2):\n",
    "    return (val1=='(' and val2==')' or (val1=='[' and val2==']') or(val1=='{' and val2=='}')\n",
    "    \n",
    "def check_balanced(expr):\n",
    "    stack=deque()\n",
    "    for i in expr:\n",
    "        if(i=='{'or i=='[' or '('):\n",
    "            stack.append(i)\n",
    "        else:\n",
    "            if(len(stack)==0):\n",
    "                return False\n",
    "            elif(stack[-1],i):\n",
    "                stack.pop()\n",
    "                continue\n",
    "            return False\n",
    "    return True\n",
    "check_balanced('{}[]')\n",
    "           \n",
    "    \n",
    "\n",
    "\n"
   ]
  },
  {
   "cell_type": "code",
   "execution_count": 5,
   "id": "d1c21bb9",
   "metadata": {},
   "outputs": [
    {
     "name": "stdout",
     "output_type": "stream",
     "text": [
      "Balanced\n"
     ]
    }
   ],
   "source": [
    "# Time Complexity: O(n) Auxiliary Space: O(n) for stack\n",
    "\n",
    "from collections import deque\n",
    "\n",
    "\n",
    "def check_pair(val1,val2):\n",
    "    return (val1 == '(' and val2 == ')') or (val1 == '[' and val2 == ']') or (val1 == '{' and val2 == '}')\n",
    "\n",
    "\n",
    "def check_balanced(expr):\n",
    "    stack = deque()\n",
    "\n",
    "    for i in range(len(expr)):\n",
    "        if expr[i] == '(' or expr[i] == '[' or expr[i] == '{':\n",
    "            stack.append(expr[i])\n",
    "        else:\n",
    "            # eg. exp = {{}}}{}\n",
    "            # if you look closely above {{}} will be matched with pair, Thus, stack \"Empty\"\n",
    "            # but an extra closing parenthesis like } will never be matched\n",
    "            # so there is no point looking forward\n",
    "            if len(stack) == 0:\n",
    "                return False\n",
    "            elif check_pair(stack[-1], expr[i]):\n",
    "                stack.pop()\n",
    "                continue\n",
    "\n",
    "            return False\n",
    "\n",
    "    return True\n",
    "\n",
    "\n",
    "# driver code\n",
    "expr = \"({})[]\"\n",
    "\n",
    "if check_balanced(expr):\n",
    "    print(\"Balanced\")\n",
    "else:\n",
    "    print(\"Not Balanced\")"
   ]
  },
  {
   "cell_type": "code",
   "execution_count": 7,
   "id": "47e80b14",
   "metadata": {},
   "outputs": [
    {
     "name": "stdout",
     "output_type": "stream",
     "text": [
      "1 2 3 1 5 6 1 "
     ]
    }
   ],
   "source": [
    "# Time Complexity is : O(n^2)\n",
    "# Space Complexity is : O(1)\n",
    "\n",
    "def stockSpan(arr):\n",
    "    for i in range(len(arr)):\n",
    "        curr_span = 1\n",
    "        j = i - 1\n",
    "        while j >= 0 and arr[j] <= arr[i]:\n",
    "            curr_span += 1\n",
    "            j -= 1\n",
    "        print(curr_span, end=\" \")\n",
    "\n",
    "\n",
    "# Driver Code\n",
    "arr = [12, 14, 15, 7, 15, 17, 5]\n",
    "stockSpan(arr)"
   ]
  },
  {
   "cell_type": "code",
   "execution_count": null,
   "id": "c39e5fb0",
   "metadata": {},
   "outputs": [],
   "source": [
    "#maximum profit for stock\n",
    "n=list(map(int,input().split(\" \")))\n",
    "for i in range(len(n)):\n",
    "    "
   ]
  }
 ],
 "metadata": {
  "kernelspec": {
   "display_name": "Python 3 (ipykernel)",
   "language": "python",
   "name": "python3"
  },
  "language_info": {
   "codemirror_mode": {
    "name": "ipython",
    "version": 3
   },
   "file_extension": ".py",
   "mimetype": "text/x-python",
   "name": "python",
   "nbconvert_exporter": "python",
   "pygments_lexer": "ipython3",
   "version": "3.9.13"
  }
 },
 "nbformat": 4,
 "nbformat_minor": 5
}
