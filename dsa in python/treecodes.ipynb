{
 "cells": [
  {
   "cell_type": "code",
   "execution_count": 1,
   "id": "19ea8fc4",
   "metadata": {
    "scrolled": true
   },
   "outputs": [
    {
     "name": "stdout",
     "output_type": "stream",
     "text": [
      "4\n",
      "2\n",
      "5\n",
      "1\n",
      "3\n"
     ]
    }
   ],
   "source": [
    "#binary tree\n",
    "#we can know that a binary tree has two adresses for its node as shown so the tree is shown down here\n",
    "class Node:\n",
    "    def __init__(self,data):\n",
    "        self.data=data\n",
    "        self.left=None\n",
    "        self.right=None\n",
    "#created a node with a data and two adresses can't be created with function \n",
    "#inserting values to the nodes\n",
    "k=Node(1)\n",
    "k.left=Node(2)\n",
    "k.right=Node(3)\n",
    "k.left.left=Node(4)\n",
    "k.left.right=Node(5)\n",
    "#now we need to acces the elements of this graph\n",
    "\"\"\" wrong code\n",
    "def access1(k):\n",
    "    if(k):\n",
    "        print(k.data)\n",
    "        if(k.right!=None):\n",
    "            k=k.right\n",
    "            access(k)\n",
    "        else:\n",
    "            k=k.left\n",
    "            access(k)\"\"\"\n",
    "#preorder midlle left right #post order left right middle #inorder left middle right\n",
    "def access(k):\n",
    "    if(k):\n",
    "        access(k.left)\n",
    "        print(k.data)\n",
    "        access(k.right)\n",
    "access(k)     "
   ]
  },
  {
   "cell_type": "code",
   "execution_count": 21,
   "id": "f36f9e51",
   "metadata": {},
   "outputs": [
    {
     "name": "stdout",
     "output_type": "stream",
     "text": [
      "None\n"
     ]
    }
   ],
   "source": [
    "#finding the height of the tree\n",
    "class Node:\n",
    "    def __init__(self,data):\n",
    "        self.data=data\n",
    "        self.right=None\n",
    "        self.left=None\n",
    "#writing a function to find the height of the tree\n",
    "left1,right1=(0,0)\n",
    "def height(node):\n",
    "    global left1\n",
    "    global right1\n",
    "    k=node\n",
    "    if(node):\n",
    "        height(node.left)\n",
    "        left1+=1\n",
    "    elif(k):\n",
    "        height(k.right)\n",
    "        right1+=1\n",
    "    else:\n",
    "        high=max(left1,right1)\n",
    "        return high\n",
    "ko=Node(1)\n",
    "ko.left=Node(2)\n",
    "ko.left.left=Node(3)\n",
    "ko.right=Node(4)\n",
    "print(height(ko))\n",
    "\n"
   ]
  },
  {
   "cell_type": "code",
   "execution_count": 5,
   "id": "39e7a7a7",
   "metadata": {
    "scrolled": true
   },
   "outputs": [
    {
     "name": "stdout",
     "output_type": "stream",
     "text": [
      "lheigh is  0\n",
      "maxHeight is  0\n",
      "lheigh is  1\n",
      "lheigh is  0\n",
      "maxHeight is  0\n",
      "maxHeight is  1\n",
      "lheigh is  2\n",
      "lheigh is  0\n",
      "maxHeight is  0\n",
      "maxHeight is  1\n",
      "Height of tree is :  3\n"
     ]
    }
   ],
   "source": [
    "class Node:\n",
    "    def __init__(self, val):\n",
    "        self.left = None\n",
    "        self.right = None\n",
    "        self.data = val\n",
    "\n",
    "def maxHeight(node):\n",
    "    if node is None:\n",
    "        return 0\n",
    "\n",
    "    else :\n",
    "\n",
    "        # Recur & calculate the Height of each (Left/ right) subtree\n",
    "        lHeight = maxHeight(node.left)\n",
    "        print(\"lheigh is \",lHeight)                 #on recurssion the program back to the previous problem and calls it\n",
    "        rHeight = maxHeight(node.right)\n",
    "        print(\"maxHeight is \",rHeight)\n",
    "\n",
    "        # Use the larger value\n",
    "        if (lHeight > rHeight):\n",
    "            return lHeight+1\n",
    "        else:\n",
    "            return rHeight+1\n",
    "\n",
    "# Driver code\n",
    "root = Node(1)\n",
    "root.left = Node(2)\n",
    "root.right = Node(3)\n",
    "root.left.left = Node(4)\n",
    "root.left.right = Node(5)\n",
    "\n",
    "print (\"Height of tree is : \", maxHeight(root))"
   ]
  },
  {
   "cell_type": "code",
   "execution_count": 5,
   "id": "df97adc8",
   "metadata": {},
   "outputs": [
    {
     "name": "stdout",
     "output_type": "stream",
     "text": [
      "1\n",
      "2\n",
      "4\n",
      "5\n",
      "3\n"
     ]
    }
   ],
   "source": [
    "#a tree contains multiple nodes where each node contains a previous node and the next node along with the data in the middele\n",
    "class Node:\n",
    "    def __init__(self,data):\n",
    "        self.right=None\n",
    "        self.data=data\n",
    "        self.left=None\n",
    "def inorder(root):\n",
    "    if root:\n",
    "        print(root.data)\n",
    "        inorder(root.left)\n",
    "        inorder(root.right)\n",
    "    \n",
    "        \n",
    "#the nodes in the tree can be inserted as shown\n",
    "k=Node(1)\n",
    "k.left=Node(2)\n",
    "k.right=Node(3)\n",
    "k.left.left=Node(4)\n",
    "k.left.right=Node(5)\n",
    "inorder(k)\n",
    "3#it doesn't have a head "
   ]
  },
  {
   "cell_type": "code",
   "execution_count": 5,
   "id": "8e50f078",
   "metadata": {},
   "outputs": [
    {
     "data": {
      "text/plain": [
       "3"
      ]
     },
     "execution_count": 5,
     "metadata": {},
     "output_type": "execute_result"
    }
   ],
   "source": [
    "#finding the height of the binary tree\n",
    "class Node:b\n",
    "    def __init__(self,val):\n",
    "        self.data=val\n",
    "        self.left=None\n",
    "        self.right=None\n",
    "def height(k):\n",
    "    if(k is None):\n",
    "        return 0\n",
    "    else:\n",
    "        lefth=height(k.left)\n",
    "        righth=height(k.right)\n",
    "        return 1+max(lefth,righth)\n",
    "k=Node(1)\n",
    "k.left=Node(2)\n",
    "k.right=Node(3)\n",
    "k.left.left=Node(4)\n",
    "k.left.right=Node(5)\n",
    "height(k)\n"
   ]
  },
  {
   "cell_type": "code",
   "execution_count": 12,
   "id": "8658f420",
   "metadata": {},
   "outputs": [
    {
     "data": {
      "text/plain": [
       "False"
      ]
     },
     "execution_count": 12,
     "metadata": {},
     "output_type": "execute_result"
    }
   ],
   "source": [
    "#checking if two trees are identical or not \n",
    "class Node:\n",
    "    def __init__(self,val):\n",
    "        self.val=val\n",
    "        self.left=None\n",
    "        self.right=None\n",
    "def isidentical(root1,root2):\n",
    "    if(root1 is None and root2 is None):\n",
    "        return True\n",
    "    else:\n",
    "        return root1.val==root2.val and isidentical(root1.left,root2.left) and isidentical(root1.right,root2.right)\n",
    "k=Node(1)\n",
    "k.left=Node(2)\n",
    "k.right=Node(3)\n",
    "k.left.left=Node(4)\n",
    "k.left.right=Node(5)\n",
    "height(k)\n",
    "k1=Node(1)\n",
    "k1.left=Node(2)\n",
    "k1.right=Node(3)\n",
    "k1.left.left=Node(8)\n",
    "k1.left.right=Node(5)\n",
    "#height(k)\n",
    "isidentical(k,k1)"
   ]
  },
  {
   "cell_type": "code",
   "execution_count": 1,
   "id": "2053d6bd",
   "metadata": {},
   "outputs": [
    {
     "ename": "IndentationError",
     "evalue": "expected an indented block (2579759587.py, line 8)",
     "output_type": "error",
     "traceback": [
      "\u001b[1;36m  File \u001b[1;32m\"C:\\Users\\haris\\AppData\\Local\\Temp\\ipykernel_17172\\2579759587.py\"\u001b[1;36m, line \u001b[1;32m8\u001b[0m\n\u001b[1;33m    def bfs(root):\u001b[0m\n\u001b[1;37m                  ^\u001b[0m\n\u001b[1;31mIndentationError\u001b[0m\u001b[1;31m:\u001b[0m expected an indented block\n"
     ]
    }
   ],
   "source": [
    "#level order transversal of a tree also known as bfs \n",
    "#printing the nodes of the tree based on its level\n",
    "class Node:\n",
    "    def __init__(self,value):\n",
    "        self.value=value\n",
    "        self.left=None\n",
    "        self.right=None\n",
    "def bfs(root):\n",
    "    if(root is None):\n",
    "        return \n",
    "    else:\n",
    "        lefth=bfs(root.left)\n",
    "        return 1+lefth"
   ]
  },
  {
   "cell_type": "code",
   "execution_count": 6,
   "id": "c060e2c5",
   "metadata": {},
   "outputs": [
    {
     "data": {
      "text/plain": [
       "4"
      ]
     },
     "execution_count": 6,
     "metadata": {},
     "output_type": "execute_result"
    }
   ],
   "source": [
    "#find the diameter of the two distance nodes that are present in the tree\n",
    "class Node:\n",
    "    def __init__(self,value):\n",
    "        self.value=value\n",
    "        self.left=None\n",
    "        self.right=None\n",
    "def diameter(root):\n",
    "    if root is None:\n",
    "        return 0\n",
    "    else:\n",
    "        lefth=diameter(root.left)\n",
    "        return 1+lefth\n",
    "root=Node(1)\n",
    "root.left=Node(2)\n",
    "root.right=Node(3)\n",
    "root.left.right=Node(4)\n",
    "root.left.left=Node(5)\n",
    "1+diameter(root.left)+diameter(root.right)"
   ]
  },
  {
   "cell_type": "code",
   "execution_count": null,
   "id": "d04dc63b",
   "metadata": {},
   "outputs": [],
   "source": [
    "#children sum property of the binary tree\n",
    "class Node:\n",
    "    def __init__(self,data):\n",
    "        self.data=data\n",
    "        self.left=None\n",
    "        self.right=None\n",
    "def istrue(root):\n",
    "    if(root is None):\n",
    "        return 1\n",
    "    if(root.left is None or root.left is None):\n",
    "        return 0\n",
    "    \n",
    "root=Node(1)\n",
    "root.left=Node(2)\n",
    "root.right=Node(3)\n",
    "root.left.right=Node(4)\n",
    "root.left.left=Node(5)"
   ]
  },
  {
   "cell_type": "code",
   "execution_count": null,
   "id": "9077e77b",
   "metadata": {},
   "outputs": [],
   "source": [
    "#a program to check weather the given binary tree is a bst or not\n",
    "#what is a binary search tree all the left side elements are smaller than the root node\n",
    "class Node:\n",
    "    def __init__(self,data):\n",
    "        self.data=data\n",
    "        self.left=None\n",
    "        self.right=None\n",
    "def leftisbst(root):\n",
    "    if(root is None or root.left is None):\n",
    "        return 1\n",
    "    else:\n",
    "        if(root.left.val>root.val):\n",
    "            return 0\n",
    "        else:\n",
    "            return leftisbst(root.left)\n",
    "def rightisbst(root):\n",
    "    if(root is None or root.right is None):\n",
    "        return 1\n",
    "    else:\n",
    "        if(root.right.val<root.val):\n",
    "            return 0\n",
    "        else:\n",
    "            return rightisbst(root.right)\n",
    "def check(root1,root2):\n",
    "    if(leftisbst(root)==1 and rightisbst(root)==1):\n",
    "        return True\n",
    "    else:\n",
    "        return False"
   ]
  }
 ],
 "metadata": {
  "kernelspec": {
   "display_name": "Python 3 (ipykernel)",
   "language": "python",
   "name": "python3"
  },
  "language_info": {
   "codemirror_mode": {
    "name": "ipython",
    "version": 3
   },
   "file_extension": ".py",
   "mimetype": "text/x-python",
   "name": "python",
   "nbconvert_exporter": "python",
   "pygments_lexer": "ipython3",
   "version": "3.9.13"
  }
 },
 "nbformat": 4,
 "nbformat_minor": 5
}
