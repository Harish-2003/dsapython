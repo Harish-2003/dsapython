{
 "cells": [
  {
   "cell_type": "code",
   "execution_count": null,
   "id": "d46fe934",
   "metadata": {},
   "outputs": [],
   "source": [
    "##graphs is a set of vertices \n",
    "#it contains two components those are edge and vertices\n",
    "#three are of two types unidirectional and bidirectional\n",
    "#is a tree a graph?? yes every tree is a graph\n",
    "#in trees we need to connection between nodes but not in graphs\n",
    "#in trees no cycles are present\n",
    "#if there is a path between two vertices then the the node is adjacent to each oother\n",
    "#the degree of the graph is no of edges that are connected\n",
    "#if there are n vertices then the max degree is n-1 or n (when connected within the each other)"
   ]
  },
  {
   "cell_type": "code",
   "execution_count": null,
   "id": "ebcb8b2f",
   "metadata": {},
   "outputs": [],
   "source": [
    "#the conreectivity betweeen two vertices of a graph can be described using disjoin sets\n",
    "#here every vertices is represented in the form of array\n",
    "#every array index represents the vertices and the values represents the parentnode of that particular array index vertex\n",
    "#if the root node of two different array indexes are same then the vertices are connected \n",
    "#these can be find with the help of find function"
   ]
  },
  {
   "cell_type": "code",
   "execution_count": null,
   "id": "72c0d0c5",
   "metadata": {},
   "outputs": [],
   "source": [
    "\"\"\"\n",
    "     0\n",
    "    / \\\n",
    "    1  2\n",
    "   /\\  /\\\n",
    "   3 4 5 6\n",
    "\n",
    "--the graph the array represetation\n",
    "of the above graph               [0,0,0,1,1,2,2]--- here we can say the parent node of that particular vertices\n",
    "                                  0,1,2,3,4,5,6 ---- indexes of the array\n",
    "to make the find() easier every vertex is represented with its root node so the real representation is [0,0,0,0,0,0,0]\n",
    "                                                          \n",
    "\"\"\"\n",
    "# as disjoint set is a datastructure it's better to implement it as a class\n",
    "\n",
    "class Disjoin:\n",
    "    def __init__(self,size):\n",
    "        root=[i for i in range(size)]   # at first all the vertices are not connected so they themseleves the root nodes\n",
    "    def find(self,x):\n",
    "        return self.root[x]    # helps to find the parent node of any vertex\n",
    "    def union(self,x,y):          #helps to interconnect to nodes/vertices\n",
    "        \n",
    "    \n",
    "\n",
    "\n",
    "\n",
    "\n",
    "\n",
    "\n",
    "\n",
    "\n",
    "\n",
    "\n"
   ]
  }
 ],
 "metadata": {
  "kernelspec": {
   "display_name": "Python 3 (ipykernel)",
   "language": "python",
   "name": "python3"
  },
  "language_info": {
   "codemirror_mode": {
    "name": "ipython",
    "version": 3
   },
   "file_extension": ".py",
   "mimetype": "text/x-python",
   "name": "python",
   "nbconvert_exporter": "python",
   "pygments_lexer": "ipython3",
   "version": "3.9.13"
  }
 },
 "nbformat": 4,
 "nbformat_minor": 5
}
