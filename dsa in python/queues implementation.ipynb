{
 "cells": [
  {
   "cell_type": "code",
   "execution_count": 19,
   "id": "cbd852dc",
   "metadata": {
    "scrolled": true
   },
   "outputs": [
    {
     "name": "stdout",
     "output_type": "stream",
     "text": [
      "Overflow condition\n"
     ]
    }
   ],
   "source": [
    "class queue:\n",
    "    def __init__(self,length):\n",
    "        self.queue=[]\n",
    "        self.length=length\n",
    "        self.flag=0\n",
    "    def isempty():\n",
    "        if(len(self.queue)==0):\n",
    "            return True\n",
    "        else:\n",
    "            return False\n",
    "    def isfull(self):\n",
    "        if(len(self.queue)==self.length):\n",
    "            return True\n",
    "        else:\n",
    "            return False\n",
    "    def enqueu(self,element):\n",
    "        if(not(self.isfull())):\n",
    "            self.queue.append(element)\n",
    "        else:\n",
    "            self.flag=1\n",
    "            print(\"Overflow condition\")\n",
    "    def dequeue(self):\n",
    "        if(not(self.isempty())):\n",
    "            self.queue.remove(self.queue[0])\n",
    "        else:\n",
    "            self.flag=1\n",
    "            print(\"list is empty\")\n",
    "    def printelements(self):\n",
    "        #print(self.flag)\n",
    "        if(not(self.flag)):\n",
    "            for i in range(len(self.queue)):\n",
    "                print(self.queue[i])\n",
    "        \n",
    "    \n",
    "queu=queue(5)\n",
    "queu.enqueu(2)\n",
    "queu.enqueu(7)\n",
    "queu.enqueu(2)\n",
    "queu.enqueu(7)\n",
    "queu.enqueu(2)\n",
    "queu.enqueu(53)\n",
    "queu.printelements()\n",
    "#queues implementation in python\n",
    "\n",
    "        \n",
    "        \n",
    "            "
   ]
  },
  {
   "cell_type": "code",
   "execution_count": 7,
   "id": "88e7ecde",
   "metadata": {},
   "outputs": [
    {
     "name": "stdout",
     "output_type": "stream",
     "text": [
      "false\n"
     ]
    }
   ],
   "source": [
    "def truefalse():\n",
    "    return True\n",
    "if(not(truefalse)):\n",
    "    print(\"True\")\n",
    "else:\n",
    "    print(\"false\")"
   ]
  },
  {
   "cell_type": "code",
   "execution_count": 2,
   "id": "b1120616",
   "metadata": {},
   "outputs": [
    {
     "name": "stdout",
     "output_type": "stream",
     "text": [
      "[3, 4]\n"
     ]
    }
   ],
   "source": [
    "a=[2,3,4]\n",
    "a.remove(a[0])\n",
    "print(a)"
   ]
  },
  {
   "cell_type": "code",
   "execution_count": null,
   "id": "36604431",
   "metadata": {},
   "outputs": [],
   "source": [
    "#circular queues"
   ]
  }
 ],
 "metadata": {
  "kernelspec": {
   "display_name": "Python 3 (ipykernel)",
   "language": "python",
   "name": "python3"
  },
  "language_info": {
   "codemirror_mode": {
    "name": "ipython",
    "version": 3
   },
   "file_extension": ".py",
   "mimetype": "text/x-python",
   "name": "python",
   "nbconvert_exporter": "python",
   "pygments_lexer": "ipython3",
   "version": "3.9.13"
  }
 },
 "nbformat": 4,
 "nbformat_minor": 5
}
